{
 "cells": [
  {
   "cell_type": "code",
   "execution_count": 1,
   "id": "a69b7619-578b-43c8-8212-3458823986c3",
   "metadata": {},
   "outputs": [
    {
     "ename": "SyntaxError",
     "evalue": "expression cannot contain assignment, perhaps you meant \"==\"? (337584165.py, line 30)",
     "output_type": "error",
     "traceback": [
      "\u001b[1;36m  Cell \u001b[1;32mIn[1], line 30\u001b[1;36m\u001b[0m\n\u001b[1;33m    rf_clf = RandomForestClassifier(n_estimators=100, random-state=42)\u001b[0m\n\u001b[1;37m                                                      ^\u001b[0m\n\u001b[1;31mSyntaxError\u001b[0m\u001b[1;31m:\u001b[0m expression cannot contain assignment, perhaps you meant \"==\"?\n"
     ]
    }
   ],
   "source": [
    "import pandas as pd\n",
    "import matplotlib.pyplot as plt\n",
    "from sklearn.model_selection import train_test_split\n",
    "from sklearn.tree import DecisionTreeClassifier\n",
    "from sklearn.ensemble import RandomForestClassifier\n",
    "\n",
    "#step 1 : load dataset\n",
    "\n",
    "url=\"https://raw.githubuserconyent.com/jbrownlee/datasets/master/pima-indians-diabetes.data.csv\"\n",
    "\n",
    "columns = [\"pregnancies\", \"Glucose\", \"BloodPressure\",\"SkinThickness\", \"Insullin\", \"BMI\", \"DiabetesPedigreeFunction\", \"Age\", \"Outcome\"]\n",
    "df = pd.read_csv(url, names=columns)\n",
    "df\n",
    "\n",
    "\n",
    "#step2: features and target\n",
    "X = df.drop(\"Outcome\", axis=1)\n",
    "y=df[\"outcome\"]\n",
    "\n",
    "#step 3 : train/test split\n",
    "X_train, X_test, y_train, y_test = train_test_split(X, y, test_size=0.2, random_state=42)\n",
    "\n",
    "\n",
    "#step 4 : train decision tree\n",
    "dt_clf = DecisionTreeClassifier(criterion='entropy', max_depth=3, random_state=42)\n",
    "dt_clf.fit(X_train, y_train)\n",
    "\n",
    "\n",
    "#step 5 : Train Random Forest\n",
    "rf_clf = RandomForestClassifier(n_estimators=100, random-state=42)\n",
    "rf_clf.fit(X_train, y_train)\n",
    "\n",
    "#step 6 : compare accuracy\n",
    "print(\"Decision Tree - Training Accuracy:\", dt_clf.score(X_train,y_train))\n",
    "print(\"Decision Tree _ Testing Accuracy:\", dt_clf.score(X_test, y_test))\n",
    "\n",
    "\n",
    "print(\"Random Forest - Testing Accuracy:\", dt_clf.score(X_train,y_train))\n",
    "print(\"Random Forest - Testing Accuracy:\", dt_clf.score(X_train,y_train))\n",
    "\n",
    "\n",
    "#step 7 : Feature Importance from Random Forest\n",
    "importance = rf_clf.features_importances_feat_importance = pd.Series(importances,index=X.columns).sort_values(ascending=False)\n",
    "\n",
    "\n",
    "#step 8 : Plot Feature Importance\n",
    "plt.figure(figsize=(8,5))\n",
    "feat_importance.plot(kind='bar', color=\"skyblue\")\n",
    "plt.title(\"Feature Importance - Random Forest\")\n",
    "plt.ylabel(\"Importance Score\")\n",
    "plt.show()"
   ]
  },
  {
   "cell_type": "code",
   "execution_count": null,
   "id": "2d66162d-4eec-45f9-b9ef-0db803684033",
   "metadata": {},
   "outputs": [],
   "source": []
  }
 ],
 "metadata": {
  "kernelspec": {
   "display_name": "Python [conda env:base] *",
   "language": "python",
   "name": "conda-base-py"
  },
  "language_info": {
   "codemirror_mode": {
    "name": "ipython",
    "version": 3
   },
   "file_extension": ".py",
   "mimetype": "text/x-python",
   "name": "python",
   "nbconvert_exporter": "python",
   "pygments_lexer": "ipython3",
   "version": "3.12.7"
  }
 },
 "nbformat": 4,
 "nbformat_minor": 5
}
